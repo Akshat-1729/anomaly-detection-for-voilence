{
 "cells": [
  {
   "cell_type": "code",
   "execution_count": 11,
   "id": "87fff66b-f4a0-40e3-9d6f-2eec26181ced",
   "metadata": {},
   "outputs": [],
   "source": [
    "import cv2\n",
    "import os\n",
    "import numpy as np\n",
    "\n",
    "def extract_and_aggregate_frames(video_path, sequence_length=10, frame_size=(224, 224)):\n",
    "    cap = cv2.VideoCapture(video_path)\n",
    "    success, frame = cap.read()\n",
    "    \n",
    "    sequence = []  # List to store frames for aggregation\n",
    "    count = 0\n",
    "\n",
    "    while success:\n",
    "        resized_frame = cv2.resize(frame, frame_size)\n",
    "        sequence.append(resized_frame)\n",
    "\n",
    "        if len(sequence) == sequence_length:\n",
    "            # Process the aggregated sequence (e.g., save it, or further processing)\n",
    "            process_aggregated_sequence(sequence, count, video_path)\n",
    "\n",
    "            # Clear the sequence for the next set of frames\n",
    "            sequence = []\n",
    "\n",
    "            count += 1\n",
    "\n",
    "        success, frame = cap.read()\n",
    "\n",
    "    cap.release()\n",
    "\n",
    "def process_aggregated_sequence(sequence, sequence_number, video_path):\n",
    "    # Perform additional processing or save the aggregated sequence\n",
    "    aggregated_sequence_filename = f\"{video_path.split('.')[0]}_sequence_{sequence_number:04d}.npy\"\n",
    "    # For simplicity, let's save it as a numpy file\n",
    "    np.save(aggregated_sequence_filename, np.array(sequence))\n",
    "\n",
    "# Example usage with temporal aggregation\n",
    "input_video_path = \"C:/Users/dell/Documents/GitHub/anomaly-detection-for-voilence/dataset/anomaly/Fighting009_x264.mp4\"\n",
    "extract_and_aggregate_frames(input_video_path, sequence_length=10)\n"
   ]
  },
  {
   "cell_type": "code",
   "execution_count": null,
   "id": "60949061",
   "metadata": {},
   "outputs": [],
   "source": []
  }
 ],
 "metadata": {
  "kernelspec": {
   "display_name": "Python 3 (ipykernel)",
   "language": "python",
   "name": "python3"
  },
  "language_info": {
   "codemirror_mode": {
    "name": "ipython",
    "version": 3
   },
   "file_extension": ".py",
   "mimetype": "text/x-python",
   "name": "python",
   "nbconvert_exporter": "python",
   "pygments_lexer": "ipython3",
   "version": "3.11.4"
  }
 },
 "nbformat": 4,
 "nbformat_minor": 5
}
